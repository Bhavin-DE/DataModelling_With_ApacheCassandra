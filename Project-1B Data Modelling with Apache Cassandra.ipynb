{
 "cells": [
  {
   "cell_type": "markdown",
   "metadata": {
    "editable": true
   },
   "source": [
    "# Part I. ETL Pipeline for Pre-Processing the Files"
   ]
  },
  {
   "cell_type": "markdown",
   "metadata": {
    "editable": true
   },
   "source": [
    "## PLEASE RUN THE FOLLOWING CODE FOR PRE-PROCESSING THE FILES"
   ]
  },
  {
   "cell_type": "markdown",
   "metadata": {
    "editable": true
   },
   "source": [
    "#### Import Python packages "
   ]
  },
  {
   "cell_type": "code",
   "execution_count": 1,
   "metadata": {
    "editable": true
   },
   "outputs": [],
   "source": [
    "# Import Python packages \n",
    "import pandas as pd\n",
    "import cassandra\n",
    "import re\n",
    "import os\n",
    "import glob\n",
    "import numpy as np\n",
    "import json\n",
    "import csv\n",
    "from prettytable import PrettyTable"
   ]
  },
  {
   "cell_type": "markdown",
   "metadata": {
    "editable": true
   },
   "source": [
    "#### Creating list of filepaths to process original event csv data files"
   ]
  },
  {
   "cell_type": "code",
   "execution_count": 2,
   "metadata": {
    "editable": true
   },
   "outputs": [
    {
     "name": "stdout",
     "output_type": "stream",
     "text": [
      "/home/workspace\n"
     ]
    }
   ],
   "source": [
    "# check current work directory\n",
    "print(os.getcwd())\n",
    "\n",
    "# Get current folder and subfolder for event data\n",
    "filepath = os.getcwd() + '/event_data'\n",
    "\n",
    "# Create a for loop to create a list of files and collect each filepath\n",
    "for root, dirs, files in os.walk(filepath):\n",
    "    \n",
    "# join the file path and roots with the subdirectories using glob\n",
    "    file_path_list = glob.glob(os.path.join(root,'*'))"
   ]
  },
  {
   "cell_type": "markdown",
   "metadata": {
    "editable": true
   },
   "source": [
    "#### Processing the files to create the data file csv that will be used for Apache Casssandra tables"
   ]
  },
  {
   "cell_type": "code",
   "execution_count": 3,
   "metadata": {
    "editable": true
   },
   "outputs": [
    {
     "name": "stdout",
     "output_type": "stream",
     "text": [
      "Total Number of rows in full data: 8056\n"
     ]
    }
   ],
   "source": [
    "# initiating an empty list of rows that will be generated from each file\n",
    "full_data_rows_list = [] \n",
    "    \n",
    "# for every filepath in the file path list \n",
    "for f in file_path_list:\n",
    "\n",
    "# reading csv file \n",
    "    with open(f, 'r', encoding = 'utf8', newline='') as csvfile: \n",
    "        # creating a csv reader object \n",
    "        csvreader = csv.reader(csvfile) \n",
    "        next(csvreader)\n",
    "        \n",
    " # extracting each data row one by one and append it        \n",
    "        for line in csvreader:\n",
    "            full_data_rows_list.append(line) \n",
    "            \n",
    "#total number of rows in ull data\n",
    "print(\"Total Number of rows in full data: \" + str(len(full_data_rows_list)))\n",
    "\n",
    "# creating a smaller event data csv file called event_datafile_full csv that will be used to insert data into the \\\n",
    "# Apache Cassandra tables\n",
    "csv.register_dialect('myDialect', quoting=csv.QUOTE_ALL, skipinitialspace=True)\n",
    "\n",
    "with open('event_datafile_new.csv', 'w', encoding = 'utf8', newline='') as f:\n",
    "    writer = csv.writer(f, dialect='myDialect')\n",
    "    writer.writerow(['artist','firstName','gender','itemInSession','lastName','length',\\\n",
    "                'level','location','sessionId','song','userId'])\n",
    "    for row in full_data_rows_list:\n",
    "        if (row[0] == ''):\n",
    "            continue\n",
    "        writer.writerow((row[0], row[2], row[3], row[4], row[5], row[6], row[7], row[8], row[12], row[13], row[16]))\n",
    "\n"
   ]
  },
  {
   "cell_type": "code",
   "execution_count": 4,
   "metadata": {
    "editable": true
   },
   "outputs": [
    {
     "name": "stdout",
     "output_type": "stream",
     "text": [
      "6821\n"
     ]
    }
   ],
   "source": [
    "# check the number of rows in your csv file\n",
    "with open('event_datafile_new.csv', 'r', encoding = 'utf8') as f:\n",
    "    print(sum(1 for line in f))"
   ]
  },
  {
   "cell_type": "markdown",
   "metadata": {
    "editable": true
   },
   "source": [
    "# Part II. Complete the Apache Cassandra coding portion of your project. \n",
    "\n",
    "## Now you are ready to work with the CSV file titled <font color=red>event_datafile_new.csv</font>, located within the Workspace directory.  The event_datafile_new.csv contains the following columns: \n",
    "- artist \n",
    "- firstName of user\n",
    "- gender of user\n",
    "- item number in session\n",
    "- last name of user\n",
    "- length of the song\n",
    "- level (paid or free song)\n",
    "- location of the user\n",
    "- sessionId\n",
    "- song title\n",
    "- userId\n",
    "\n",
    "The image below is a screenshot of what the denormalized data should appear like in the <font color=red>**event_datafile_new.csv**</font> after the code above is run:<br>\n",
    "\n",
    "<img src=\"images/image_event_datafile_new.jpg\">"
   ]
  },
  {
   "cell_type": "markdown",
   "metadata": {
    "editable": true
   },
   "source": [
    "## Begin writing your Apache Cassandra code in the cells below"
   ]
  },
  {
   "cell_type": "markdown",
   "metadata": {
    "editable": true
   },
   "source": [
    "#### Creating a Cluster"
   ]
  },
  {
   "cell_type": "code",
   "execution_count": 5,
   "metadata": {
    "editable": true
   },
   "outputs": [],
   "source": [
    "# This should make a connection to a Cassandra instance your local machine \n",
    "# (127.0.0.1)\n",
    "\n",
    "from cassandra.cluster import Cluster\n",
    "try:\n",
    "    cluster = Cluster(['127.0.0.1'])\n",
    "# To establish connection and begin executing queries, need a session\n",
    "    session = cluster.connect()\n",
    "except Exception as e:\n",
    "    print(e)"
   ]
  },
  {
   "cell_type": "markdown",
   "metadata": {
    "editable": true
   },
   "source": [
    "#### Create Keyspace"
   ]
  },
  {
   "cell_type": "code",
   "execution_count": 6,
   "metadata": {
    "editable": true
   },
   "outputs": [],
   "source": [
    "#Creating Keyspace\n",
    "try:\n",
    "    session.execute(\"\"\"\n",
    "    CREATE KEYSPACE IF NOT EXISTS udacity \n",
    "    WITH REPLICATION = \n",
    "    { 'class' : 'SimpleStrategy', 'replication_factor' : 1 }\"\"\"\n",
    ")\n",
    "except Exception as e:\n",
    "    print(e)"
   ]
  },
  {
   "cell_type": "markdown",
   "metadata": {
    "editable": true
   },
   "source": [
    "#### Set Keyspace"
   ]
  },
  {
   "cell_type": "code",
   "execution_count": 7,
   "metadata": {
    "editable": true
   },
   "outputs": [],
   "source": [
    "#Set up keyspace\n",
    "try:\n",
    "    session.set_keyspace('udacity')\n",
    "except Exception as e:\n",
    "    print(e)"
   ]
  },
  {
   "cell_type": "markdown",
   "metadata": {
    "editable": true
   },
   "source": [
    "### Now we need to create tables to run the following queries. Remember, with Apache Cassandra you model the database tables on the queries you want to run."
   ]
  },
  {
   "cell_type": "markdown",
   "metadata": {
    "editable": true
   },
   "source": [
    "## Create queries to ask the following three questions of the data\n",
    "\n",
    "### 1. Give me the artist, song title and song's length in the music app history that was heard during  sessionId = 338, and itemInSession  = 4\n",
    "\n",
    "\n",
    "### 2. Give me only the following: name of artist, song (sorted by itemInSession) and user (first and last name) for userid = 10, sessionid = 182\n",
    "    \n",
    "\n",
    "### 3. Give me every user name (first and last) in my music app history who listened to the song 'All Hands Against His Own'\n",
    "\n",
    "\n"
   ]
  },
  {
   "cell_type": "code",
   "execution_count": 8,
   "metadata": {
    "editable": true
   },
   "outputs": [],
   "source": [
    "# create artist_songs table\n",
    "query = \"CREATE TABLE IF NOT EXISTS artist_songs\"\n",
    "query = query + \"(Artist varchar, \\\n",
    "                  Song varchar, \\\n",
    "                  Length float, \\\n",
    "                  SessionId int, \\\n",
    "                  IteminSession int, \\\n",
    "                  PRIMARY KEY (SessionId, IteminSession))\"\n",
    "\n",
    "# execute create table query\n",
    "try:\n",
    "    session.execute(query)\n",
    "except Exception as e:\n",
    "    print(e)\n",
    "\n",
    "                    "
   ]
  },
  {
   "cell_type": "code",
   "execution_count": 9,
   "metadata": {
    "editable": true
   },
   "outputs": [],
   "source": [
    "# insert records into artist_songs table from csv\n",
    "file = 'event_datafile_new.csv'\n",
    "\n",
    "# open csv file\n",
    "with open(file, encoding = 'utf8') as f:\n",
    "    csvreader = csv.reader(f)\n",
    "    next(csvreader) # skip header\n",
    "    for line in csvreader:\n",
    "        \n",
    "# assign the INSERT statements into the `query` variable\n",
    "        query = \"INSERT INTO artist_songs(Artist, \\\n",
    "                                          Song, \\\n",
    "                                          Length, \\\n",
    "                                          SessionId, \\\n",
    "                                          IteminSession)\"\n",
    "        query = query + \" VALUES(%s, %s, %s, %s, %s)\"\n",
    "        \n",
    "# execute Insert Query for artist_songs table\n",
    "        try:\n",
    "            session.execute(query, (line[0], line[9], float(line[5]), int(line[8]), int(line[3]), ))\n",
    "        except Exception as e:\n",
    "            print(e)"
   ]
  },
  {
   "cell_type": "markdown",
   "metadata": {
    "editable": true
   },
   "source": [
    "#### Do a SELECT to verify that the data have been inserted into each table"
   ]
  },
  {
   "cell_type": "code",
   "execution_count": 10,
   "metadata": {
    "editable": true,
    "scrolled": true
   },
   "outputs": [
    {
     "name": "stdout",
     "output_type": "stream",
     "text": [
      "Artists and Songs where sessionid = 338 and iteminsession = 4\n",
      "+-----------+---------------------------------+--------------------+\n",
      "|   Artist  |               Song              |       Length       |\n",
      "+-----------+---------------------------------+--------------------+\n",
      "| Faithless | Music Matters (Mark Knight Dub) | 495.30731201171875 |\n",
      "+-----------+---------------------------------+--------------------+\n"
     ]
    }
   ],
   "source": [
    "# create SELECT query for artist_songs table to find artist, song and lengh of song where sessionid=338 and iteminsession=4\n",
    "query = \"SELECT Artist, \\\n",
    "                Song, \\\n",
    "                Length \\\n",
    "         from artist_songs \\\n",
    "         where sessionid = 338 and \\\n",
    "               iteminsession = 4  \"\n",
    "\n",
    "# execute Select Query\n",
    "try:\n",
    "    rows = session.execute(query)\n",
    "except Exception as e:\n",
    "    print(e)\n",
    "\n",
    "#Print artist_songs output using prettytable\n",
    "artist_songs_pt = PrettyTable()\n",
    "artist_songs_pt.field_names = [\"Artist\",\"Song\",\"Length\"]\n",
    "for row in rows:\n",
    "    artist_songs_pt.add_row((row.artist, row.song, row.length))\n",
    "print(\"Artists and Songs where sessionid = 338 and iteminsession = 4\")\n",
    "print(artist_songs_pt)"
   ]
  },
  {
   "cell_type": "markdown",
   "metadata": {
    "editable": true
   },
   "source": [
    "### COPY AND REPEAT THE ABOVE THREE CELLS FOR EACH OF THE THREE QUESTIONS"
   ]
  },
  {
   "cell_type": "code",
   "execution_count": 11,
   "metadata": {
    "editable": true
   },
   "outputs": [
    {
     "name": "stdout",
     "output_type": "stream",
     "text": [
      "Artists, Songs and Name for UserId = 10 and SessionId = 182\n",
      "+-------------------+------------------------------------------------------+-----------+----------+\n",
      "|       Artist      |                         Song                         | FirstName | LastName |\n",
      "+-------------------+------------------------------------------------------+-----------+----------+\n",
      "|  Down To The Bone |                  Keep On Keepin' On                  |   Sylvie  |   Cruz   |\n",
      "|    Three Drives   |                     Greece 2000                      |   Sylvie  |   Cruz   |\n",
      "| Sebastien Tellier |                      Kilometer                       |   Sylvie  |   Cruz   |\n",
      "|   Lonnie Gordon   | Catch You Baby (Steve Pitron & Max Sanna Radio Edit) |   Sylvie  |   Cruz   |\n",
      "+-------------------+------------------------------------------------------+-----------+----------+\n"
     ]
    }
   ],
   "source": [
    "# create artist_songs_users table\n",
    "query = \"CREATE TABLE IF NOT EXISTS artist_songs_users\"\n",
    "query = query + \"(Artist varchar, \\\n",
    "                  Song varchar, \\\n",
    "                  FirstName varchar, \\\n",
    "                  LastName varchar, \\\n",
    "                  UserId int, \\\n",
    "                  SessionId int, \\\n",
    "                  ItemInSession int, \\\n",
    "                  PRIMARY KEY ((UserId, SessionId), ItemInSession))\"\n",
    "\n",
    "# execute create query for artist_songs_users\n",
    "try:\n",
    "    session.execute(query)\n",
    "except Exception as e:\n",
    "    print(e)\n",
    "\n",
    "# insert records into artist_songs_users table from csv\n",
    "file = 'event_datafile_new.csv'\n",
    "\n",
    "with open(file, encoding = 'utf8') as f:\n",
    "    csvreader = csv.reader(f)\n",
    "    next(csvreader) # skip header\n",
    "    for line in csvreader:\n",
    "        \n",
    "# assign the INSERT statements into the `query` variable\n",
    "        query = \"INSERT INTO artist_songs_users(Artist, \\\n",
    "                                                Song, \\\n",
    "                                                FirstName, \\\n",
    "                                                LastName, \\\n",
    "                                                UserId, \\\n",
    "                                                SessionId, \\\n",
    "                                                ItemInSession)\"\n",
    "        query = query + \" VALUES(%s, %s, %s, %s, %s, %s, %s)\"\n",
    "        \n",
    "# execute insert query for artist_songs_users\n",
    "        try:\n",
    "            session.execute(query, (line[0], line[9], line[1], line[4], int(line[10]), int(line[8]), int(line[3])))\n",
    "        except Exception as e:\n",
    "            print(e)\n",
    "            \n",
    "\n",
    "# create SELECT query for artist_songs_users table to find artist, song and users \n",
    "# where userid=10 and sessioni=182 and orderd by iteminsession=4\n",
    "query = \"SELECT Artist, \\\n",
    "                Song, \\\n",
    "                FirstName, \\\n",
    "                LastName \\\n",
    "         from artist_songs_users \\\n",
    "         where UserId = 10 and SessionId = 182 \"\n",
    "\n",
    "#execute select query\n",
    "try:\n",
    "    rows = session.execute(query)\n",
    "except Exception as e:\n",
    "    print(e)\n",
    "    \n",
    "#Print artist_songs_users output using prettytable\n",
    "artist_songs_users_pt = PrettyTable()\n",
    "artist_songs_users_pt.field_names = [\"Artist\",\"Song\",\"FirstName\",\"LastName\"]\n",
    "for row in rows:\n",
    "    artist_songs_users_pt.add_row((row.artist, row.song, row.firstname, row.lastname))\n",
    "print(\"Artists, Songs and Name for UserId = 10 and SessionId = 182\")\n",
    "print(artist_songs_users_pt)"
   ]
  },
  {
   "cell_type": "code",
   "execution_count": 12,
   "metadata": {
    "editable": true
   },
   "outputs": [
    {
     "name": "stdout",
     "output_type": "stream",
     "text": [
      "Users who listend to song 'All Hands Against His Own'\n",
      "+-----------+----------+\n",
      "| FirstName | LastName |\n",
      "+-----------+----------+\n",
      "+-----------+----------+\n"
     ]
    }
   ],
   "source": [
    "# create users_name table\n",
    "query = \"CREATE TABLE IF NOT EXISTS users_name\"\n",
    "query = query + \"(FirstName varchar, \\\n",
    "                  LastName varchar, \\\n",
    "                  Song varchar, \\\n",
    "                  UserId int, \\\n",
    "                  PRIMARY KEY (Song, UserId))\"\n",
    "\n",
    "# execute create query\n",
    "try:\n",
    "    session.execute(query)\n",
    "except Exception as e:\n",
    "    print(e)   \n",
    "\n",
    "# insert records into users_name table from csv\n",
    "file = 'event_datafile_new.csv'\n",
    "\n",
    "with open(file, encoding = 'utf8') as f:\n",
    "    csvreader = csv.reader(f)\n",
    "    next(csvreader) # skip header\n",
    "    for line in csvreader:\n",
    "        \n",
    "# assign the INSERT statements into the `query` variable\n",
    "        query = \"INSERT INTO users_name(FirstName, \\\n",
    "                                        LastName, \\\n",
    "                                        Song, \\\n",
    "                                        UserId)\"\n",
    "        query = query + \" VALUES(%s, %s, %s, %s)\"\n",
    "        \n",
    "        ## execute insert query for users_name\n",
    "        try:\n",
    "            session.execute(query, (line[9], line[1], line[4], int(line[10])))\n",
    "        except Exception as e:\n",
    "            print(e)\n",
    "            \n",
    "# create SELECT query for users_name table to find users who listend song 'All Hands Against His Own' \n",
    "query = \"SELECT FirstName, \\\n",
    "                LastName \\\n",
    "         from users_name \\\n",
    "         where song = 'All Hands Against His Own' \"\n",
    "\n",
    "# execute select query\n",
    "try:\n",
    "    rows = session.execute(query)\n",
    "except Exception as e:\n",
    "    print(e)\n",
    "\n",
    "#Print users_name output using prettytable\n",
    "users_name_pt = PrettyTable()\n",
    "users_name_pt.field_names = [\"FirstName\",\"LastName\"]\n",
    "for row in rows:\n",
    "    users_name_pt.add_row((row.firstname, row.lastname))\n",
    "print(\"Users who listend to song 'All Hands Against His Own'\")\n",
    "print(users_name_pt)"
   ]
  },
  {
   "cell_type": "markdown",
   "metadata": {
    "editable": true
   },
   "source": [
    "### Drop the tables before closing out the sessions"
   ]
  },
  {
   "cell_type": "code",
   "execution_count": 13,
   "metadata": {
    "editable": true
   },
   "outputs": [
    {
     "name": "stdout",
     "output_type": "stream",
     "text": [
      "Droping... artist_songs table\n",
      "Droping... artist_songs_users table\n",
      "Droping... users_name table\n"
     ]
    }
   ],
   "source": [
    "# drop the table before closing out the sessions\n",
    "print(\"Droping... artist_songs table\")\n",
    "query = \"drop table artist_songs\"\n",
    "try:\n",
    "    rows = session.execute(query)\n",
    "except Exception as e:\n",
    "    print(e)\n",
    "\n",
    "print(\"Droping... artist_songs_users table\")\n",
    "query = \"drop table artist_songs_users\"\n",
    "try:\n",
    "    rows = session.execute(query)\n",
    "except Exception as e:\n",
    "    print(e)\n",
    "\n",
    "print(\"Droping... users_name table\")\n",
    "query = \"drop table users_name\"\n",
    "try:\n",
    "    rows = session.execute(query)\n",
    "except Exception as e:\n",
    "    print(e)"
   ]
  },
  {
   "cell_type": "markdown",
   "metadata": {
    "editable": true
   },
   "source": [
    "### Close the session and cluster connection¶"
   ]
  },
  {
   "cell_type": "code",
   "execution_count": 14,
   "metadata": {
    "editable": true
   },
   "outputs": [],
   "source": [
    "session.shutdown()\n",
    "cluster.shutdown()"
   ]
  },
  {
   "cell_type": "code",
   "execution_count": null,
   "metadata": {
    "editable": true
   },
   "outputs": [],
   "source": []
  }
 ],
 "metadata": {
  "kernelspec": {
   "display_name": "Python 3",
   "language": "python",
   "name": "python3"
  },
  "language_info": {
   "codemirror_mode": {
    "name": "ipython",
    "version": 3
   },
   "file_extension": ".py",
   "mimetype": "text/x-python",
   "name": "python",
   "nbconvert_exporter": "python",
   "pygments_lexer": "ipython3",
   "version": "3.6.3"
  }
 },
 "nbformat": 4,
 "nbformat_minor": 4
}
